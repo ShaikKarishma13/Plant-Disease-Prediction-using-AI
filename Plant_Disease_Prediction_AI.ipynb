# ✅ Step 1: Install dependencies
!pip install tensorflow pillow

# ✅ Step 2: Import libraries
import numpy as np
from tensorflow.keras.applications.mobilenet_v2 import MobileNetV2, preprocess_input, decode_predictions
from tensorflow.keras.preprocessing import image
from google.colab import files
from PIL import Image

# ✅ Step 3: Load pre-trained MobileNetV2
model = MobileNetV2(weights='imagenet')

# ✅ Step 4: Upload a plant image (any format like .jpg, .png, .webp, etc.)
print("📷 Upload a plant image")
uploaded = files.upload()
img_path = list(uploaded.keys())[0]

# ✅ Step 5: Preprocess the image
img = Image.open(img_path).convert('RGB')
img = img.resize((224, 224))  # MobileNetV2 input size
img_array = image.img_to_array(img)
img_array = np.expand_dims(img_array, axis=0)
img_array = preprocess_input(img_array)

# ✅ Step 6: Make prediction
predictions = model.predict(img_array)
decoded = decode_predictions(predictions, top=1)[0][0]

# ✅ Step 7: Show result
print(f"\n✅ Prediction: {decoded[1]} ({decoded[2]*100:.2f}% confidence)")
